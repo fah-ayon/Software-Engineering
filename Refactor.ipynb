{
  "nbformat": 4,
  "nbformat_minor": 0,
  "metadata": {
    "colab": {
      "provenance": []
    },
    "kernelspec": {
      "name": "python3",
      "display_name": "Python 3"
    },
    "language_info": {
      "name": "python"
    }
  },
  "cells": [
    {
      "cell_type": "markdown",
      "source": [
        "# Original Code"
      ],
      "metadata": {
        "id": "CW6SAqN3nVl5"
      }
    },
    {
      "cell_type": "code",
      "execution_count": null,
      "metadata": {
        "id": "Ny-1OqeynPJa"
      },
      "outputs": [],
      "source": [
        "class StudentUserHandler:\n",
        "\n",
        "    def get_details(self, name, student_id, department, cgpa, date_of_admission, credits, scholarship_amount): # 1. Long Parameter List, unused params\n",
        "        student_name = name\n",
        "        student_id = student_id\n",
        "        student_department = department\n",
        "        student_cgpa = cgpa\n",
        "        student_guardian_name = \"\"\n",
        "        student_address = \"\"\n",
        "\n",
        "        course_count = 0\n",
        "        while course_count < 4: # 2. Semantic duplication\n",
        "            print(f\"CourseNo {course_count} is completed\")\n",
        "            course_count += 1\n",
        "\n",
        "        #extract method\n",
        "        lowest_cgpa_details = AllCGPA().get_lowest_cgpa()\n",
        "        highest_cgpa_details = AllCGPA().get_highest_cgpa()\n",
        "\n",
        "\n",
        "        if (self.cgpa >= 3.8 and self.credits_completed >= 120 and\n",
        "            self.department in [\"Engineering\", \"Science\"] and\n",
        "            self.extracurricular_participation >= 3): # Decompose Conditional\n",
        "            print(f\"{self.name} is eligible for a full merit scholarship.\")\n",
        "\n",
        "        for course_no in range(course_count):\n",
        "            print(f\"CourseNo {course_no} is completed\")\n",
        "\n",
        "    def update_details(self):\n",
        "        print(\"You need to setup your studentDetails\")\n",
        "        print(\"You need to setup your personalDetails\")\n",
        "\n",
        "class UndergradStudentHandler(StudentUserHandler):\n",
        "    def __init__(self):\n",
        "        super().__init__()\n",
        "        self.student_guardian_name = \"\"\n",
        "        self.student_address = \"\"\n",
        "\n",
        "\n",
        "    def pub_grd(self):\n",
        "        print(\"Here is your grade\")\n",
        "\n",
        "    def take_courses(self):\n",
        "        print(\"please take at least 4 courses\")\n",
        "\n",
        "\n",
        "class PostgradStudentHandler(UndergradStudentHandler):\n",
        "\n",
        "    def __init__(self):\n",
        "        super().__init__()\n",
        "        self.undergrad_student_details = \"\" # Feature Envy, move field\n",
        "        self.postgrad_student_details = \"\"\n",
        "\n",
        "    def pub_grd(self):\n",
        "        print(\"Here is your grade\")\n",
        "\n",
        "    def provide_postgrad_student_details(self):\n",
        "        print(\"please take at least 4 courses\")"
      ]
    },
    {
      "cell_type": "markdown",
      "source": [
        "# Refactored version"
      ],
      "metadata": {
        "id": "4F7-6uSRngb4"
      }
    },
    {
      "cell_type": "code",
      "source": [
        "class StudentUserHandler:\n",
        "\n",
        "    def get_details(self, parameter_object): # 1. Long Parameter List\n",
        "        #extract methods\n",
        "        self.student_informations(parameter_object)\n",
        "        self.get_CGPA_details()\n",
        "        self.check_eligibility()\n",
        "        self.course_count()\n",
        "\n",
        "    def course_count(self):\n",
        "        for course_no in range(course_count):\n",
        "            print(f\"CourseNo {course_no} is completed\")\n",
        "\n",
        "    def update_details(self):\n",
        "        print(\"You need to setup your studentDetails\")\n",
        "        print(\"You need to setup your personalDetails\")\n",
        "\n",
        "    def check_eligibility(self):\n",
        "        if (self.check_credentials()):\n",
        "            print(f\"{self.name} is eligible for a full merit scholarship.\")\n",
        "\n",
        "    def check_credentials(self):\n",
        "        if (self.cgpa >= 3.8 and self.credits_completed >= 120 and\n",
        "            self.department in [\"Engineering\", \"Science\"] and\n",
        "            self.extracurricular_participation >= 3):\n",
        "          return True\n",
        "        else:\n",
        "          return False\n",
        "\n",
        "    def student_informations(self, parameter_object):\n",
        "        student_name = parameter_object.name\n",
        "        student_id = parameter_object.student_id\n",
        "        student_department = parameter_object.department\n",
        "        student_cgpa = parameter_object.cgpa\n",
        "        student_guardian_name = \"\"\n",
        "        student_address = \"\"\n",
        "\n",
        "    def get_CGPA_details(self):\n",
        "        lowest_cgpa_details = AllCGPA().get_lowest_cgpa() # no need to think about ALLCGPA()\n",
        "        highest_cgpa_details = AllCGPA().get_highest_cgpa()\n",
        "\n",
        "class UndergradStudentHandler(StudentUserHandler):\n",
        "    def __init__(self):\n",
        "        super().__init__()\n",
        "        self.undergrad_student_details = \"\" # feature envy, resolved\n",
        "\n",
        "\n",
        "        # code duplication, removed\n",
        "        # self.student_guardian_name = \"\"\n",
        "        # self.student_address = \"\"\n",
        "\n",
        "\n",
        "    def publish_grade(self): #Inappropriate Naming, fixed\n",
        "        print(\"Here is your grade\")\n",
        "\n",
        "    def take_courses(self):\n",
        "        print(\"please take at least 4 courses\")\n",
        "\n",
        "class PostgradStudentHandler(UndergradStudentHandler):\n",
        "\n",
        "    def __init__(self):\n",
        "        super().__init__()\n",
        "        # self.undergrad_student_details = \"\" # move field, feature envy\n",
        "        self.postgrad_student_details = \"\"\n",
        "\n",
        "\n",
        "    # Code Duplication, removed\n",
        "    # def pub_grd(self):\n",
        "    #     print(\"Here is your grade\")\n",
        "\n",
        "    # Code Duplication, removed, the output is same\n",
        "    # def provide_postgrad_student_details(self):\n",
        "    #     print(\"please take at least 4 courses\")\n",
        "\n"
      ],
      "metadata": {
        "id": "sc0i7ESYngAp"
      },
      "execution_count": null,
      "outputs": []
    },
    {
      "cell_type": "code",
      "source": [
        "class Student_Parameters: # 1. Long Parameter List\n",
        "  def __init__(self, name, student_id, department, cgpa): # eliminating unused parameters\n",
        "    self.name = name\n",
        "    self.student_id = student_id\n",
        "    self.department = department\n",
        "    self.cgpa = cgpa\n",
        "    self.student_guardian_name = \"\"\n",
        "    self.student_address = \"\"\n",
        "\n",
        "parameter_object = Student_Parameters(\"Asif\", \"1234\", \"CSE\", \"3.80\")"
      ],
      "metadata": {
        "id": "A-mvZod7shES"
      },
      "execution_count": null,
      "outputs": []
    }
  ]
}